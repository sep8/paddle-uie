{
 "cells": [
  {
   "cell_type": "code",
   "execution_count": 1,
   "metadata": {},
   "outputs": [
    {
     "name": "stderr",
     "output_type": "stream",
     "text": [
      "/Users/mng/miniforge3/envs/c3-nlp/lib/python3.8/site-packages/flatbuffers/compat.py:19: DeprecationWarning: the imp module is deprecated in favour of importlib; see the module's documentation for alternative uses\n",
      "  import imp\n"
     ]
    }
   ],
   "source": [
    "from pprint import pprint\n",
    "from paddlenlp import Taskflow"
   ]
  },
  {
   "cell_type": "code",
   "execution_count": 2,
   "metadata": {},
   "outputs": [],
   "source": [
    "text = '4月6日，每天8:00左右从居住地骑电动车到顺义区裕龙六区33号楼改水电，18:00左右返回西坝河东里社区。4月11日，每天6:00左右从西坝河东里社区骑电动车到东城区南门仓胡同小区改水电，18:00左右骑电动车返回西坝河北里社区。'"
   ]
  },
  {
   "cell_type": "code",
   "execution_count": 4,
   "metadata": {},
   "outputs": [
    {
     "name": "stderr",
     "output_type": "stream",
     "text": [
      "\u001b[32m[2022-09-14 23:59:57,210] [    INFO]\u001b[0m - We are using <class 'paddlenlp.transformers.ernie.tokenizer.ErnieTokenizer'> to load 'checkpoint/model_2400/'.\u001b[0m\n",
      "\u001b[32m[2022-09-14 23:59:57,223] [    INFO]\u001b[0m - We are using <class 'paddlenlp.transformers.ernie.modeling.ErnieModel'> to load 'ernie-3.0-mini-zh'.\u001b[0m\n",
      "\u001b[32m[2022-09-14 23:59:57,224] [    INFO]\u001b[0m - Already cached /Users/mng/.paddlenlp/models/ernie-3.0-mini-zh/ernie_3.0_mini_zh.pdparams\u001b[0m\n",
      "\u001b[32m[2022-09-14 23:59:58,089] [    INFO]\u001b[0m - Converting to the inference model cost a little time.\u001b[0m\n",
      "\u001b[32m[2022-09-14 23:59:59,998] [    INFO]\u001b[0m - The inference model save in the path:checkpoint/model_2400/static/inference\u001b[0m\n",
      "E0914 23:59:59.998867 52036992 analysis_config.cc:389] Please compile with MKLDNN first to use MKLDNN\n"
     ]
    }
   ],
   "source": [
    "ie = Taskflow(\"information_extraction\", model=\"uie-data-distill-gp\", task_path=\"checkpoint/model_2400/\")"
   ]
  },
  {
   "cell_type": "code",
   "execution_count": 5,
   "metadata": {},
   "outputs": [
    {
     "name": "stdout",
     "output_type": "stream",
     "text": [
      "[{}]\n"
     ]
    }
   ],
   "source": [
    "pprint(ie(text))"
   ]
  },
  {
   "cell_type": "code",
   "execution_count": null,
   "metadata": {},
   "outputs": [],
   "source": []
  }
 ],
 "metadata": {
  "kernelspec": {
   "display_name": "Python 3.8.13 ('c3-nlp')",
   "language": "python",
   "name": "python3"
  },
  "language_info": {
   "codemirror_mode": {
    "name": "ipython",
    "version": 3
   },
   "file_extension": ".py",
   "mimetype": "text/x-python",
   "name": "python",
   "nbconvert_exporter": "python",
   "pygments_lexer": "ipython3",
   "version": "3.8.13"
  },
  "orig_nbformat": 4,
  "vscode": {
   "interpreter": {
    "hash": "022b350d9d731ea6beeec17b0760db9de374177ccae69f8fd03b1c527dbc4257"
   }
  }
 },
 "nbformat": 4,
 "nbformat_minor": 2
}
