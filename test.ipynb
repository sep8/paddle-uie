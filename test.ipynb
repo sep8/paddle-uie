{
 "cells": [
  {
   "cell_type": "code",
   "execution_count": null,
   "metadata": {},
   "outputs": [],
   "source": [
    "from pprint import pprint\n",
    "from paddlenlp import Taskflow\n"
   ]
  },
  {
   "cell_type": "code",
   "execution_count": null,
   "metadata": {},
   "outputs": [],
   "source": [
    "texts = [\n",
    "'感染者29: 为外地返京人员，常住地址为望京西园一区112号楼，集中隔离前居住地为朝阳区东坝乡华瀚福园C区409号楼。3月8日晚作为外省确诊病例密切接触者进行集中隔离，3月11日被判定为无症状感染者。    主要活动轨迹：    3月5日早上7:20，从上海虹桥机场乘坐航班MU5151，于10:35分到达首都机场T2航站楼，后乘私家车约中午12:00到顺义沃尔玛山姆会员店购物。16:30乘私家车回到东湖街道望京西园一区112楼家中。    3月6日约11:00，步行前往“北京国宗济世中医院”采样点进行核酸检测，随后步行返回家中；中午12:30左右，自行驾车前往东坝华瀚福园C区，居家未外出。当日核酸检测结果为阴性。    3月7日约10：30，自行驾车前往望京西园一区家中，11:00在单元门外取其行李后离开，约12:00回到东坝华瀚福园家中，后一直居家未外出。    3月8日，居家未外出，当晚作为外省一确诊病例的密切接触者进行集中隔离。    3月11日确诊为无症状感染者。']\n"
   ]
  },
  {
   "cell_type": "code",
   "execution_count": null,
   "metadata": {},
   "outputs": [],
   "source": [
    "\n",
    "schema = {\n",
    "    '日期': [\n",
    "      {\n",
    "        '出行时间': ['出行地点']\n",
    "      }]\n",
    "}\n"
   ]
  },
  {
   "cell_type": "code",
   "execution_count": null,
   "metadata": {},
   "outputs": [],
   "source": [
    "my_ie = Taskflow(\"information_extraction\", schema=schema,\n",
    "                 task_path='./checkpoint/model_900')\n",
    "result = my_ie(texts)\n",
    "pprint(result)\n"
   ]
  },
  {
   "cell_type": "code",
   "execution_count": null,
   "metadata": {},
   "outputs": [],
   "source": [
    "parsed = {}\n",
    "for res in result:\n",
    "  data = res['日期']\n",
    "  for dateRes in data:\n",
    "    date = dateRes['text']\n",
    "    parsed[date] = {}\n",
    "    if('relations' in dateRes):\n",
    "      timeData = dateRes['relations']['日期时间']\n",
    "      for timeRes in timeData:\n",
    "        time = timeRes['text']\n",
    "        parsed[date][time] = []\n",
    "        if('relations' in timeRes):\n",
    "          locData = timeRes['relations']['时间地点']\n",
    "          for locRes in locData:\n",
    "            loc = locRes['text']\n",
    "            parsed[date][time].append(loc)\n",
    "\n",
    "parsed"
   ]
  }
 ],
 "metadata": {
  "kernelspec": {
   "display_name": "Python 3.8.13 ('c3-nlp')",
   "language": "python",
   "name": "python3"
  },
  "language_info": {
   "codemirror_mode": {
    "name": "ipython",
    "version": 3
   },
   "file_extension": ".py",
   "mimetype": "text/x-python",
   "name": "python",
   "nbconvert_exporter": "python",
   "pygments_lexer": "ipython3",
   "version": "3.8.13"
  },
  "orig_nbformat": 4,
  "vscode": {
   "interpreter": {
    "hash": "022b350d9d731ea6beeec17b0760db9de374177ccae69f8fd03b1c527dbc4257"
   }
  }
 },
 "nbformat": 4,
 "nbformat_minor": 2
}
