{
 "cells": [
  {
   "cell_type": "code",
   "execution_count": 33,
   "metadata": {},
   "outputs": [],
   "source": [
    "from pprint import pprint\n",
    "from paddlenlp import Taskflow"
   ]
  },
  {
   "cell_type": "code",
   "execution_count": 34,
   "metadata": {},
   "outputs": [
    {
     "name": "stderr",
     "output_type": "stream",
     "text": [
      "\u001b[32m[2022-07-22 15:38:12,285] [    INFO]\u001b[0m - We are using <class 'paddlenlp.transformers.ernie.tokenizer.ErnieTokenizer'> to load 'ernie-3.0-base-zh'.\u001b[0m\n",
      "\u001b[32m[2022-07-22 15:38:12,285] [    INFO]\u001b[0m - Already cached /Users/mng/.paddlenlp/models/ernie-3.0-base-zh/ernie_3.0_base_zh_vocab.txt\u001b[0m\n"
     ]
    },
    {
     "name": "stdout",
     "output_type": "stream",
     "text": [
      "[{'位置': [{'end': 259,\n",
      "          'probability': 0.40594414528493417,\n",
      "          'start': 252,\n",
      "          'text': '南门仓胡同小区'},\n",
      "         {'end': 131,\n",
      "          'probability': 0.45125454294475276,\n",
      "          'start': 121,\n",
      "          'text': '东城区南门仓胡同小区'},\n",
      "         {'end': 239,\n",
      "          'probability': 0.6164014256542067,\n",
      "          'start': 236,\n",
      "          'text': '东城区'},\n",
      "         {'end': 225,\n",
      "          'probability': 0.4740196099753433,\n",
      "          'start': 215,\n",
      "          'text': '东城区南门仓胡同小区'}],\n",
      "  '日期': [{'end': 103,\n",
      "          'probability': 0.28862017066749246,\n",
      "          'start': 94,\n",
      "          'text': '4月11日-21日'}]}]\n"
     ]
    }
   ],
   "source": [
    "text = '感染者-“001”: 现住：顺义区李桥镇后桥村 主要活动轨迹：4月6日-9日，每天8:00左右从居住地骑电动车到顺义区裕龙六区33号楼改水电，18:00左右返回居住地。4月10日在家休息。4月11日-21日，每天6:00左右从居住地骑电动车到东城区南门仓胡同小区改水电，18:00左右骑电动车返回居住地。其间分别于17日和19日11:00左右，在装修现场与22日通报的确诊病例有接触。4月22日，7:00左右从居住地骑电动车出发到东城区南门仓胡同小区取工具，9:30左右到东城区和平里三区业主家后再次返回南门仓胡同小区，14:00左右骑电动车离开返回居住地，20:00左右作为密接人员被转运到集中隔离医学观察点。'\n",
    "schema = {\n",
    "    '感染者': ['感染者', '日期', '时间', '位置']\n",
    "}\n",
    "my_ie = Taskflow(\"information_extraction\", schema=schema['感染者'], task_path='./checkpoint/model_best')\n",
    "pprint(my_ie(text))"
   ]
  },
  {
   "cell_type": "code",
   "execution_count": null,
   "metadata": {},
   "outputs": [],
   "source": []
  }
 ],
 "metadata": {
  "kernelspec": {
   "display_name": "Python 3.8.13 ('c3-nlp')",
   "language": "python",
   "name": "python3"
  },
  "language_info": {
   "codemirror_mode": {
    "name": "ipython",
    "version": 3
   },
   "file_extension": ".py",
   "mimetype": "text/x-python",
   "name": "python",
   "nbconvert_exporter": "python",
   "pygments_lexer": "ipython3",
   "version": "3.8.13"
  },
  "orig_nbformat": 4,
  "vscode": {
   "interpreter": {
    "hash": "5ad98a190b4b5f35ccc183fea6461b9c6eca3817fd9b9f811f8bcf53cbfc1ea4"
   }
  }
 },
 "nbformat": 4,
 "nbformat_minor": 2
}
