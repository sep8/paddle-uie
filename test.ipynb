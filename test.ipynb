{
 "cells": [
  {
   "cell_type": "code",
   "execution_count": null,
   "metadata": {},
   "outputs": [],
   "source": [
    "from pprint import pprint\n",
    "from paddlenlp import Taskflow"
   ]
  },
  {
   "cell_type": "code",
   "execution_count": null,
   "metadata": {},
   "outputs": [],
   "source": [
    "texts = [\"感染者29: 常住地址为望京西园一区112号楼。 主要活动轨迹：3月5日早上7:20，从上海虹桥机场乘坐航班MU5151，于10:35分到达首都机场T2航站楼，后乘私家车约中午12:00到顺义沃尔玛山姆会员店购物。16:30乘私家车回到东湖街道望京西园一区112楼家中。3月6日约11:00，步行前往“北京国宗济世中医院”采样点进行核酸检测，随后步行返回家中；中午12:30左右，自行驾车前往东坝华瀚福园C区，居家未外出。\"]"
   ]
  },
  {
   "cell_type": "code",
   "execution_count": null,
   "metadata": {},
   "outputs": [],
   "source": [
    "schema = {\n",
    "    '日期': [{\n",
    "            '出行时间': ['出行地点']\n",
    "        }]\n",
    "}\n"
   ]
  },
  {
   "cell_type": "code",
   "execution_count": null,
   "metadata": {},
   "outputs": [],
   "source": [
    "ie = Taskflow(\"information_extraction\", schema=schema, task_path='./checkpoint/model_best')\n",
    "result = ie(texts)\n",
    "pprint(result)"
   ]
  },
  {
   "cell_type": "code",
   "execution_count": null,
   "metadata": {},
   "outputs": [],
   "source": [
    "def parse_uie_result(result):\n",
    "    parsed = {}\n",
    "    for res in result:\n",
    "        data = res['日期']\n",
    "        for dateRes in data:\n",
    "            date = dateRes['text']\n",
    "            parsed[date] = {}\n",
    "            if('relations' in dateRes):\n",
    "                timeData = dateRes['relations']['出行时间']\n",
    "                for timeRes in timeData:\n",
    "                    time = timeRes['text']\n",
    "                    parsed[date][time] = []\n",
    "                    if('relations' in timeRes):\n",
    "                        locData = timeRes['relations']['出行地点']\n",
    "                        for locRes in locData:\n",
    "                            loc = locRes['text']\n",
    "                            parsed[date][time].append(loc)\n",
    "    return parsed\n"
   ]
  }
 ],
 "metadata": {
  "kernelspec": {
   "display_name": "Python 3.8.13 ('c3-nlp')",
   "language": "python",
   "name": "python3"
  },
  "language_info": {
   "codemirror_mode": {
    "name": "ipython",
    "version": 3
   },
   "file_extension": ".py",
   "mimetype": "text/x-python",
   "name": "python",
   "nbconvert_exporter": "python",
   "pygments_lexer": "ipython3",
   "version": "3.8.13"
  },
  "orig_nbformat": 4,
  "vscode": {
   "interpreter": {
    "hash": "5ad98a190b4b5f35ccc183fea6461b9c6eca3817fd9b9f811f8bcf53cbfc1ea4"
   }
  }
 },
 "nbformat": 4,
 "nbformat_minor": 2
}
