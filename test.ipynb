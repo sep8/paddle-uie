{
 "cells": [
  {
   "cell_type": "code",
   "execution_count": 65,
   "metadata": {},
   "outputs": [],
   "source": [
    "from pprint import pprint\n",
    "from paddlenlp import Taskflow"
   ]
  },
  {
   "cell_type": "code",
   "execution_count": 66,
   "metadata": {},
   "outputs": [],
   "source": [
    "class UniversalInformationExtraction:\n",
    "    def __init__(self):\n",
    "        self.init_schema()\n",
    "    def extract(self, inputTexts):\n",
    "        ie = Taskflow('information_extraction', schema=self.schema1)\n",
    "        output = ie(inputTexts)\n",
    "\n",
    "        ie.set_schema(self.schema2)\n",
    "        output2 = ie(inputTexts)\n",
    "\n",
    "        extractions = {\n",
    "            # '感染者':\n",
    "            # '居住地',\n",
    "            # '流调信息'：[\n",
    "            # {\n",
    "            #     '时间':\n",
    "            #     '地点':\n",
    "            #     '事件'：\n",
    "            # }\n",
    "            # ]\n",
    "        }\n",
    "        for key in output[0].keys():\n",
    "            extractions[key] = output[0][key][0]['text']\n",
    "\n",
    "        extractions['流调信息'] = []\n",
    "        if('骑触发词' in output2[0]):\n",
    "            for item in output2[0]['骑触发词']:\n",
    "                newItem = {}\n",
    "                for key in item['relations'].keys():\n",
    "                    newItem[key] = []\n",
    "                    for innerItem in item['relations'][key]:\n",
    "                        newItem[key].append(innerItem['text'])\n",
    "                extractions['流调信息'].append(newItem)\n",
    "        return extractions\n",
    "\n",
    "    def init_schema(self):\n",
    "        self.schema1 = ['感染者', '居住地']  # Define the schema for entity extraction\n",
    "        self.schema2 = {\n",
    "            '骑触发词': [\n",
    "                '时间',\n",
    "                '地点',\n",
    "                '事件'\n",
    "            ]\n",
    "        }\n",
    "\n",
    "ie = UniversalInformationExtraction()\n",
    "\n"
   ]
  },
  {
   "cell_type": "code",
   "execution_count": 67,
   "metadata": {},
   "outputs": [
    {
     "name": "stderr",
     "output_type": "stream",
     "text": [
      "\u001b[32m[2022-07-21 17:02:01,381] [    INFO]\u001b[0m - We are using <class 'paddlenlp.transformers.ernie.tokenizer.ErnieTokenizer'> to load 'ernie-3.0-base-zh'.\u001b[0m\n",
      "\u001b[32m[2022-07-21 17:02:01,382] [    INFO]\u001b[0m - Already cached /Users/ming8525/.paddlenlp/models/ernie-3.0-base-zh/ernie_3.0_base_zh_vocab.txt\u001b[0m\n"
     ]
    },
    {
     "name": "stdout",
     "output_type": "stream",
     "text": [
      "{'居住地': '顺义区李桥镇后桥村', '感染者': '001', '流调信息': []}\n"
     ]
    }
   ],
   "source": [
    "text = '感染者-“001”: 现住：顺义区李桥镇后桥村 主要活动轨迹：4月6日-9日，每天8:00左右从居住地骑电动车到顺义区裕龙六区33号楼改水电，18:00左右返回居住地。4月10日在家休息。4月11日-21日，每天6:00左右从居住地骑电动车到东城区南门仓胡同小区改水电，18:00左右骑电动车返回居住地。其间分别于17日和19日11:00左右，在装修现场与22日通报的确诊病例有接触。4月22日，7:00左右从居住地骑电动车出发到东城区南门仓胡同小区取工具，9:30左右到东城区和平里三区业主家后再次返回南门仓胡同小区，14:00左右骑电动车离开返回居住地，20:00左右作为密接人员被转运到集中隔离医学观察点。'\n",
    "pprint(ie.extract([text]))"
   ]
  },
  {
   "cell_type": "code",
   "execution_count": null,
   "metadata": {},
   "outputs": [],
   "source": []
  }
 ],
 "metadata": {
  "kernelspec": {
   "display_name": "Python 3.8.13 ('c3-nlp')",
   "language": "python",
   "name": "python3"
  },
  "language_info": {
   "codemirror_mode": {
    "name": "ipython",
    "version": 3
   },
   "file_extension": ".py",
   "mimetype": "text/x-python",
   "name": "python",
   "nbconvert_exporter": "python",
   "pygments_lexer": "ipython3",
   "version": "3.8.13"
  },
  "orig_nbformat": 4,
  "vscode": {
   "interpreter": {
    "hash": "5ad98a190b4b5f35ccc183fea6461b9c6eca3817fd9b9f811f8bcf53cbfc1ea4"
   }
  }
 },
 "nbformat": 4,
 "nbformat_minor": 2
}
