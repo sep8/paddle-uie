{
 "cells": [
  {
   "cell_type": "code",
   "execution_count": null,
   "metadata": {},
   "outputs": [],
   "source": [
    "from pprint import pprint\n",
    "from paddlenlp import Taskflow"
   ]
  },
  {
   "cell_type": "code",
   "execution_count": null,
   "metadata": {},
   "outputs": [],
   "source": [
    "text = '感染者0: 现住：顺义区李桥镇后桥村 主要活动轨迹：4月6日-9日，每天8:00左右从居住地骑电动车到顺义区裕龙六区33号楼改水电，18:00左右返回居住地。4月10日在家休息。4月11日-21日，每天6:00左右从居住地骑电动车到东城区南门仓胡同小区改水电，18:00左右骑电动车返回居住地。其间分别于17日和19日11:00左右，在装修现场与22日通报的确诊病例有接触。4月22日，7:00左右从居住地骑电动车出发到东城区南门仓胡同小区取工具，9:30左右到东城区和平里三区业主家后再次返回南门仓胡同小区，14:00左右骑电动车离开返回居住地，20:00左右作为密接人员被转运到集中隔离医学观察点。'"
   ]
  },
  {
   "cell_type": "code",
   "execution_count": null,
   "metadata": {},
   "outputs": [],
   "source": [
    "schema = ['感染者','日期', '时间', '地点']"
   ]
  },
  {
   "cell_type": "code",
   "execution_count": null,
   "metadata": {},
   "outputs": [],
   "source": [
    "ie = Taskflow('information_extraction', schema=schema)\n",
    "pprint(ie([text]))"
   ]
  },
  {
   "cell_type": "code",
   "execution_count": null,
   "metadata": {},
   "outputs": [],
   "source": [
    "my_ie = Taskflow(\"information_extraction\", schema=schema, task_path='./checkpoint/model_best')\n",
    "pprint(my_ie(text))\n"
   ]
  },
  {
   "cell_type": "code",
   "execution_count": null,
   "metadata": {},
   "outputs": [],
   "source": []
  }
 ],
 "metadata": {
  "kernelspec": {
   "display_name": "Python 3.8.13 ('c3-nlp')",
   "language": "python",
   "name": "python3"
  },
  "language_info": {
   "codemirror_mode": {
    "name": "ipython",
    "version": 3
   },
   "file_extension": ".py",
   "mimetype": "text/x-python",
   "name": "python",
   "nbconvert_exporter": "python",
   "pygments_lexer": "ipython3",
   "version": "3.8.13"
  },
  "orig_nbformat": 4,
  "vscode": {
   "interpreter": {
    "hash": "022b350d9d731ea6beeec17b0760db9de374177ccae69f8fd03b1c527dbc4257"
   }
  }
 },
 "nbformat": 4,
 "nbformat_minor": 2
}
