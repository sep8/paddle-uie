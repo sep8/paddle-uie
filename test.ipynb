{
 "cells": [
  {
   "cell_type": "code",
   "execution_count": 1,
   "metadata": {},
   "outputs": [
    {
     "name": "stderr",
     "output_type": "stream",
     "text": [
      "/Users/mng/miniforge3/envs/c3-nlp/lib/python3.8/site-packages/flatbuffers/compat.py:19: DeprecationWarning: the imp module is deprecated in favour of importlib; see the module's documentation for alternative uses\n",
      "  import imp\n",
      "\u001b[32m[2022-07-19 15:17:51,424] [    INFO]\u001b[0m - We are using <class 'paddlenlp.transformers.ernie.tokenizer.ErnieTokenizer'> to load 'ernie-3.0-base-zh'.\u001b[0m\n",
      "\u001b[32m[2022-07-19 15:17:51,425] [    INFO]\u001b[0m - Already cached /Users/mng/.paddlenlp/models/ernie-3.0-base-zh/ernie_3.0_base_zh_vocab.txt\u001b[0m\n",
      "\u001b[32m[2022-07-19 15:17:55,122] [    INFO]\u001b[0m - Converting to the inference model cost a little time.\u001b[0m\n",
      "\u001b[32m[2022-07-19 15:17:56,052] [    INFO]\u001b[0m - The inference model save in the path:./checkpoint/model_best/static/inference\u001b[0m\n"
     ]
    },
    {
     "name": "stdout",
     "output_type": "stream",
     "text": [
      "[{'出发地': [{'end': 17,\n",
      "           'probability': 0.37675971696204513,\n",
      "           'start': 15,\n",
      "           'text': '广州'}],\n",
      "  '时间': [{'end': 10,\n",
      "          'probability': 0.9925652523303619,\n",
      "          'start': 6,\n",
      "          'text': '7月5日'}],\n",
      "  '目的地': [{'end': 20,\n",
      "           'probability': 0.4601709206694977,\n",
      "           'start': 18,\n",
      "           'text': '佛山'}],\n",
      "  '费用': [{'end': 15,\n",
      "          'probability': 0.9713069816332052,\n",
      "          'start': 12,\n",
      "          'text': '114'}]}]\n"
     ]
    }
   ],
   "source": [
    "from pprint import pprint\n",
    "from paddlenlp import Taskflow\n",
    "\n",
    "schema = ['出发地', '目的地', '费用', '时间']\n",
    "# 设定抽取目标和定制化模型权重路径\n",
    "my_ie = Taskflow(\"information_extraction\", schema=schema, task_path='./checkpoint/model_best')\n",
    "pprint(my_ie(\"城市内交通费7月5日金额114广州至佛山\"))"
   ]
  },
  {
   "cell_type": "code",
   "execution_count": null,
   "metadata": {},
   "outputs": [],
   "source": []
  }
 ],
 "metadata": {
  "kernelspec": {
   "display_name": "Python 3.8.13 ('c3-nlp')",
   "language": "python",
   "name": "python3"
  },
  "language_info": {
   "codemirror_mode": {
    "name": "ipython",
    "version": 3
   },
   "file_extension": ".py",
   "mimetype": "text/x-python",
   "name": "python",
   "nbconvert_exporter": "python",
   "pygments_lexer": "ipython3",
   "version": "3.8.13"
  },
  "orig_nbformat": 4,
  "vscode": {
   "interpreter": {
    "hash": "022b350d9d731ea6beeec17b0760db9de374177ccae69f8fd03b1c527dbc4257"
   }
  }
 },
 "nbformat": 4,
 "nbformat_minor": 2
}
