{
 "cells": [
  {
   "cell_type": "code",
   "execution_count": 13,
   "metadata": {},
   "outputs": [
    {
     "name": "stdout",
     "output_type": "stream",
     "text": [
      "174\n"
     ]
    }
   ],
   "source": [
    "import os\n",
    "import json\n",
    "\n",
    "raw_file = os.path.join('./data/raw/raw.json')\n",
    "\n",
    "\n",
    "def is_valid_data(data):\n",
    "    if('desc' not in data or 'addr' not in data):\n",
    "        return False\n",
    "    addr = data['addr']\n",
    "    return addr.find('感染者') > -1\n",
    "\n",
    "\n",
    "texts = []\n",
    "with open(raw_file, 'r') as f:\n",
    "    raw_data = json.load(f)\n",
    "    for name in raw_data:\n",
    "        data = raw_data[name]\n",
    "        for d in data:\n",
    "            if(is_valid_data(d)):\n",
    "                desc = d['desc']\n",
    "                texts.append(d['desc'].replace('\\n', '  '))\n",
    "\n",
    "max_lines = None\n",
    "print(len(texts))\n",
    "with open(os.path.join('./data/raw/raw.txt'), 'w') as f:\n",
    "    lines = 0\n",
    "    for index, line in enumerate(texts):\n",
    "        if (max_lines != None and lines >= max_lines):\n",
    "            break\n",
    "        f.write(f\"感染者{index}: {line}\\n\")\n",
    "        lines = lines + 1\n"
   ]
  },
  {
   "cell_type": "code",
   "execution_count": null,
   "metadata": {},
   "outputs": [],
   "source": []
  }
 ],
 "metadata": {
  "kernelspec": {
   "display_name": "Python 3.8.13",
   "language": "python",
   "name": "python3"
  },
  "language_info": {
   "codemirror_mode": {
    "name": "ipython",
    "version": 3
   },
   "file_extension": ".py",
   "mimetype": "text/x-python",
   "name": "python",
   "nbconvert_exporter": "python",
   "pygments_lexer": "ipython3",
   "version": "3.8.13"
  },
  "orig_nbformat": 4,
  "vscode": {
   "interpreter": {
    "hash": "5ad98a190b4b5f35ccc183fea6461b9c6eca3817fd9b9f811f8bcf53cbfc1ea4"
   }
  }
 },
 "nbformat": 4,
 "nbformat_minor": 2
}
