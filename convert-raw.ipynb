{
 "cells": [
  {
   "cell_type": "code",
   "execution_count": 2,
   "metadata": {},
   "outputs": [
    {
     "name": "stdout",
     "output_type": "stream",
     "text": [
      "128\n"
     ]
    }
   ],
   "source": [
    "import os\n",
    "import json\n",
    "\n",
    "raw_file = os.path.join('./data/raw/raw.json')\n",
    "\n",
    "texts = []\n",
    "with open(raw_file, 'r') as f:\n",
    "    raw_data = json.load(f)\n",
    "    data = raw_data['朝阳区']\n",
    "    for d in data:\n",
    "        if ('desc' in d):\n",
    "          texts.append(d['desc'].replace('\\n', ''))\n",
    "max_lines = 10\n",
    "print(len(texts))\n",
    "with open(os.path.join('./data/raw/raw.txt'), 'w') as f:\n",
    "    lines = 0\n",
    "    for line in texts:\n",
    "        if (max_lines != None and lines >= max_lines):\n",
    "            break\n",
    "        f.write(f\"{line}\\n\")\n",
    "        lines = lines + 1"
   ]
  },
  {
   "cell_type": "code",
   "execution_count": null,
   "metadata": {},
   "outputs": [],
   "source": []
  }
 ],
 "metadata": {
  "kernelspec": {
   "display_name": "Python 3.8.9 64-bit",
   "language": "python",
   "name": "python3"
  },
  "language_info": {
   "codemirror_mode": {
    "name": "ipython",
    "version": 3
   },
   "file_extension": ".py",
   "mimetype": "text/x-python",
   "name": "python",
   "nbconvert_exporter": "python",
   "pygments_lexer": "ipython3",
   "version": "3.8.9"
  },
  "orig_nbformat": 4,
  "vscode": {
   "interpreter": {
    "hash": "31f2aee4e71d21fbe5cf8b01ff0e069b9275f58929596ceb00d14d90e3e16cd6"
   }
  }
 },
 "nbformat": 4,
 "nbformat_minor": 2
}
